{
 "cells": [
  {
   "cell_type": "code",
   "execution_count": null,
   "metadata": {},
   "outputs": [],
   "source": [
    "# Read data into numpy array\n",
    "import numpy as np\n",
    "data_file = 'spectrum/EXP006'\n",
    "with open(data_file, \"rb\") as f:\n",
    "    data = np.fromfile(f, dtype=np.uint16)\n",
    "\n",
    "data = data[512:]"
   ]
  },
  {
   "cell_type": "code",
   "execution_count": null,
   "metadata": {},
   "outputs": [],
   "source": [
    "data.shape"
   ]
  },
  {
   "cell_type": "code",
   "execution_count": null,
   "metadata": {},
   "outputs": [],
   "source": [
    "dd = data[:16*1024].reshape(16, -1)\n",
    "ddd = data[16*1024:].reshape(8, 256, 256)"
   ]
  },
  {
   "cell_type": "code",
   "execution_count": null,
   "metadata": {},
   "outputs": [],
   "source": [
    "dd.shape"
   ]
  },
  {
   "cell_type": "code",
   "execution_count": null,
   "metadata": {},
   "outputs": [],
   "source": [
    "ddd.shape"
   ]
  },
  {
   "cell_type": "code",
   "execution_count": null,
   "metadata": {},
   "outputs": [],
   "source": [
    "ddd.mean()"
   ]
  },
  {
   "cell_type": "code",
   "execution_count": null,
   "metadata": {
    "scrolled": false
   },
   "outputs": [],
   "source": [
    "import matplotlib.pyplot as plt\n",
    "\n",
    "plt.rcParams['figure.figsize'] = (20.0, 40.0)\n",
    "\n",
    "# Data for plotting\n",
    "e = np.arange(1024)\n",
    "\n",
    "offset = 0\n",
    "fig, axes = plt.subplots(nrows=8, ncols=2)\n",
    "for row in axes:\n",
    "    for ax in row:\n",
    "        ax.plot(e, dd[offset], 'k.-')\n",
    "        ax.set_xlabel('x-label')\n",
    "        ax.set_ylabel('y-label')\n",
    "        ax.set_title('Offset: {}'.format(offset))\n",
    "        offset += 1\n",
    "plt.tight_layout()"
   ]
  },
  {
   "cell_type": "code",
   "execution_count": null,
   "metadata": {},
   "outputs": [],
   "source": []
  },
  {
   "cell_type": "code",
   "execution_count": null,
   "metadata": {
    "scrolled": false
   },
   "outputs": [],
   "source": [
    "import matplotlib.pyplot as plt\n",
    "\n",
    "plt.rcParams['figure.figsize'] = (5.0, 30.0)\n",
    "\n",
    "e = np.arange(256)\n",
    "\n",
    "offset = 0\n",
    "fig, axes = plt.subplots(nrows=8, ncols=1)\n",
    "for ax in axes:\n",
    "    c = ax.pcolormesh(ddd[offset], cmap='Greys')\n",
    "    ax.set_xlabel(r'Energy of E detector (Channel no.)')\n",
    "    ax.set_ylabel(r'Energy of dE detector (Channel no.)')\n",
    "    fig.colorbar(c, ax=ax)\n",
    "    ax.set_title('Offset: {}'.format(offset))\n",
    "    offset += 1\n",
    "plt.tight_layout()"
   ]
  },
  {
   "cell_type": "code",
   "execution_count": null,
   "metadata": {},
   "outputs": [],
   "source": [
    "# Plot EDE #4"
   ]
  },
  {
   "cell_type": "code",
   "execution_count": null,
   "metadata": {
    "scrolled": false
   },
   "outputs": [],
   "source": [
    "fig, ax = plt.subplots(figsize=(10,7))\n",
    "c = ax.pcolormesh(ddd[3], cmap='Greys')\n",
    "ax.set_title(r'Two-dimensional dE-E spectrum')\n",
    "ax.set_xlabel(r'Energy of E detector (Channel no.)')\n",
    "ax.set_ylabel(r'Energy of dE detector (Channel no.)')\n",
    "fig.colorbar(c, ax=ax)\n",
    "\n",
    "fig.tight_layout()\n",
    "plt.show()\n",
    "plt.close()"
   ]
  },
  {
   "cell_type": "code",
   "execution_count": null,
   "metadata": {},
   "outputs": [],
   "source": []
  }
 ],
 "metadata": {
  "kernelspec": {
   "display_name": "Python 3",
   "language": "python",
   "name": "python3"
  },
  "language_info": {
   "codemirror_mode": {
    "name": "ipython",
    "version": 3
   },
   "file_extension": ".py",
   "mimetype": "text/x-python",
   "name": "python",
   "nbconvert_exporter": "python",
   "pygments_lexer": "ipython3",
   "version": "3.8.2"
  }
 },
 "nbformat": 4,
 "nbformat_minor": 4
}
